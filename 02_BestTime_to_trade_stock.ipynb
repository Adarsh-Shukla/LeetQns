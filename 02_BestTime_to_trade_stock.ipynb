{
 "cells": [
  {
   "cell_type": "code",
   "execution_count": null,
   "metadata": {},
   "outputs": [],
   "source": [
    "# 121. Best Time to Buy and Sell Stock\n",
    "\n",
    "# Say you have an array for which the ith element is the price of a given stock on day i. \n",
    "# If you were only permitted to complete at most one transaction (i.e., buy one and sell one share of the stock),\n",
    "# design an algorithm to find the maximum profit.\n",
    "# Note that you cannot sell a stock before you buy one.\n",
    "# Example 1:\n",
    "# Input: [7,1,5,3,6,4]\n",
    "# Output: 5\n",
    "# Explanation: Buy on day 2 (price = 1) and sell on day 5 (price = 6), profit = 6-1 = 5.\n",
    "# Not 7-1 = 6, as selling price needs to be larger than buying price."
   ]
  },
  {
   "cell_type": "code",
   "execution_count": 2,
   "metadata": {},
   "outputs": [],
   "source": [
    "inp_list = [7,120,5,3,6,124]"
   ]
  },
  {
   "cell_type": "code",
   "execution_count": 4,
   "metadata": {},
   "outputs": [
    {
     "data": {
      "text/plain": [
       "121"
      ]
     },
     "execution_count": 4,
     "metadata": {},
     "output_type": "execute_result"
    }
   ],
   "source": [
    "# Brute Force\n",
    "def best_time_to_trade(inp):\n",
    "    maxdiff = None\n",
    "    for itera in range(len(inp)):\n",
    "        for itera2 in range(itera+1, len(inp)):\n",
    "            # print(inp[itera], \" vs \", inp[itera2])\n",
    "            if maxdiff is None:\n",
    "                maxdiff = inp[itera2] - inp[itera]\n",
    "            elif maxdiff < (inp[itera2] - inp[itera]):\n",
    "                maxdiff = inp[itera2] - inp[itera]\n",
    "                # print(itera, itera2, maxdiff)\n",
    "            else:\n",
    "                continue\n",
    "    return maxdiff\n",
    "\n",
    "best_time_to_trade(inp_list)\n",
    "# Time complexity: O(n^2)\n",
    "# Space(O(1))\n",
    "\n"
   ]
  },
  {
   "cell_type": "code",
   "execution_count": 5,
   "metadata": {},
   "outputs": [
    {
     "data": {
      "text/plain": [
       "-inf"
      ]
     },
     "execution_count": 5,
     "metadata": {},
     "output_type": "execute_result"
    }
   ],
   "source": [
    "float('-inf')"
   ]
  },
  {
   "cell_type": "code",
   "execution_count": 4,
   "metadata": {},
   "outputs": [
    {
     "data": {
      "text/plain": [
       "-1"
      ]
     },
     "execution_count": 4,
     "metadata": {},
     "output_type": "execute_result"
    }
   ],
   "source": [
    "# Two Pointer Solution\n",
    "def best_time_to_trade(inp):\n",
    "    buy_indx = 0\n",
    "    sell_indx = 1\n",
    "    maxProf = float('-inf')\n",
    "    while sell_indx < len(inp):\n",
    "        if maxProf < (inp[sell_indx] - inp[buy_indx]):\n",
    "            maxProf = inp[sell_indx] - inp[buy_indx]\n",
    "        elif inp[buy_indx] > inp[sell_indx]:\n",
    "            buy_indx = sell_indx\n",
    "        else:\n",
    "            pass\n",
    "        sell_indx += 1\n",
    "    return maxProf\n",
    "\n",
    "best_time_to_trade(inp_list)\n",
    "best_time_to_trade([5,4,2,-8,-20])\n",
    "\n",
    "# Time complexity: O(n)\n",
    "# Space complexity: O(n)"
   ]
  }
 ],
 "metadata": {
  "kernelspec": {
   "display_name": "Python 3",
   "language": "python",
   "name": "python3"
  },
  "language_info": {
   "codemirror_mode": {
    "name": "ipython",
    "version": 3
   },
   "file_extension": ".py",
   "mimetype": "text/x-python",
   "name": "python",
   "nbconvert_exporter": "python",
   "pygments_lexer": "ipython3",
   "version": "3.9.6"
  }
 },
 "nbformat": 4,
 "nbformat_minor": 2
}

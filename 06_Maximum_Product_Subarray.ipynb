{
 "cells": [
  {
   "cell_type": "code",
   "execution_count": null,
   "metadata": {},
   "outputs": [],
   "source": [
    "# Given an integer array nums, find the contiguous subarray within an array (containing at least one\n",
    "# number) which has the largest product.\n",
    "# Example 1:\n",
    "# Input: [2,3, -2,4]\n",
    "# Output: 6\n",
    "# Explanation: [2,3] has the largest product 6."
   ]
  },
  {
   "cell_type": "code",
   "execution_count": 19,
   "metadata": {},
   "outputs": [],
   "source": [
    "nums = [-1,0,-1,2,-2,-0.5, 500]\n",
    "# 1000 [-1,2,-2,-0.5, 500]"
   ]
  },
  {
   "cell_type": "code",
   "execution_count": 20,
   "metadata": {},
   "outputs": [
    {
     "data": {
      "text/plain": [
       "1000.0"
      ]
     },
     "execution_count": 20,
     "metadata": {},
     "output_type": "execute_result"
    }
   ],
   "source": [
    "# Brute force\n",
    "# Just get all the subarrays possible and keep finding the max product\n",
    "\n",
    "def max_prod_subarray_bf(nums_inp):\n",
    "    max_prod = nums_inp[0]\n",
    "    for itera in range(len(nums_inp)):\n",
    "        for itera2 in range(itera+1, len(nums_inp)+1):\n",
    "            subarray = nums_inp[itera:itera2]\n",
    "            prod =subarray[0]\n",
    "            # print(\"subarray: \", subarray, \"\\nitera2: \",itera2, 'itera: ',itera)\n",
    "            for itera3 in range(1,len(subarray)):\n",
    "                prod *= subarray[itera3]\n",
    "                max_prod = max(max_prod, prod)\n",
    "    return max_prod\n",
    "    \n",
    "max_prod_subarray_bf(nums)\n",
    "# O(n^3) time complexity"
   ]
  },
  {
   "cell_type": "code",
   "execution_count": 21,
   "metadata": {},
   "outputs": [
    {
     "data": {
      "text/plain": [
       "1000.0"
      ]
     },
     "execution_count": 21,
     "metadata": {},
     "output_type": "execute_result"
    }
   ],
   "source": [
    "# Kadane's algorithm\n",
    "#Current Min and Max both calculated\n",
    "\n",
    "def max_prod_subarray(nums_inp):\n",
    "    # print(nums_inp)\n",
    "    maxProd = max(nums_inp)\n",
    "    currMax, currMin = 1,1\n",
    "    for val in nums_inp:\n",
    "                # if val==0:\n",
    "                #             currMax, currMin = 1,1\n",
    "                # print(\"val: \",val, \" currMax:\",currMax, '  currMin: ',currMin, '  maxProd: ',maxProd, \"\\n\",'val, currMax * val, currMin * val)',(val, currMax * val, currMin * val) )\n",
    "                tempmax = currMax * val\n",
    "                tempmin = currMin * val\n",
    "                currMin = min(val, tempmax, tempmin)\n",
    "                currMax = max(val,tempmax , tempmin)\n",
    "                # print(\"val: \",val, \" currMax:\",currMax, '  currMin: ',currMin, '  maxProd: ',maxProd, '\\n \\n')\n",
    "                maxProd = max(maxProd, currMax)\n",
    "    return maxProd\n",
    "max_prod_subarray(nums)\n",
    "# max_prod_subarray([1,-3,0,23,-0.5,4,-11])\n"
   ]
  }
 ],
 "metadata": {
  "kernelspec": {
   "display_name": "Python 3",
   "language": "python",
   "name": "python3"
  },
  "language_info": {
   "codemirror_mode": {
    "name": "ipython",
    "version": 3
   },
   "file_extension": ".py",
   "mimetype": "text/x-python",
   "name": "python",
   "nbconvert_exporter": "python",
   "pygments_lexer": "ipython3",
   "version": "3.9.6"
  }
 },
 "nbformat": 4,
 "nbformat_minor": 2
}

{
 "cells": [
  {
   "cell_type": "code",
   "execution_count": null,
   "metadata": {},
   "outputs": [],
   "source": [
    "# Given an array of integers, return indices of the two numbers such that they add up to a specific target.\n",
    "# You may assume that each input would have exactly one solution, and you may not use the same element twice.\n",
    "# Example:\n",
    "# Given nums = [2, 7, 11, 15], target = 9,\n",
    "# Because nums [0] + nums [1] = 2 + 7 = 9,\n",
    "# return [0, 1]-"
   ]
  },
  {
   "cell_type": "code",
   "execution_count": 9,
   "metadata": {},
   "outputs": [],
   "source": [
    "\n",
    "nums = [2, 7, 11, 15]\n",
    "target = 17"
   ]
  },
  {
   "cell_type": "code",
   "execution_count": 10,
   "metadata": {},
   "outputs": [
    {
     "data": {
      "text/plain": [
       "(0, 3)"
      ]
     },
     "execution_count": 10,
     "metadata": {},
     "output_type": "execute_result"
    }
   ],
   "source": [
    "\n",
    "def two_sum(nums, target):\n",
    "    for itera in range(len(nums)):\n",
    "        for itera2 in range(itera+1, len(nums)):\n",
    "            if target == nums[itera]+nums[itera2]:\n",
    "                    return itera, itera2\n",
    "two_sum(nums,target)   \n",
    "# O(n^2) time complexity\n",
    "# O(1) space complexity"
   ]
  },
  {
   "cell_type": "code",
   "execution_count": 11,
   "metadata": {},
   "outputs": [
    {
     "data": {
      "text/plain": [
       "(0, 3)"
      ]
     },
     "execution_count": 11,
     "metadata": {},
     "output_type": "execute_result"
    }
   ],
   "source": [
    "# Hashmap based\n",
    "def two_sum(nums, target):\n",
    "    prevMap = {}\n",
    "    \n",
    "    for itera, val in enumerate(nums):\n",
    "        diff = target-val \n",
    "        if diff in prevMap:\n",
    "            return prevMap[diff], itera\n",
    "        else:\n",
    "            prevMap[val] = itera\n",
    "\n",
    "two_sum(nums,target)\n",
    "# o(n) time complexity\n",
    "# o(n) space complexity"
   ]
  },
  {
   "cell_type": "code",
   "execution_count": null,
   "metadata": {},
   "outputs": [],
   "source": []
  }
 ],
 "metadata": {
  "kernelspec": {
   "display_name": "Python 3",
   "language": "python",
   "name": "python3"
  },
  "language_info": {
   "codemirror_mode": {
    "name": "ipython",
    "version": 3
   },
   "file_extension": ".py",
   "mimetype": "text/x-python",
   "name": "python",
   "nbconvert_exporter": "python",
   "pygments_lexer": "ipython3",
   "version": "3.9.6"
  }
 },
 "nbformat": 4,
 "nbformat_minor": 2
}

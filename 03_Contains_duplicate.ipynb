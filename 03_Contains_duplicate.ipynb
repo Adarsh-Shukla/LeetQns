{
 "cells": [
  {
   "cell_type": "code",
   "execution_count": null,
   "metadata": {},
   "outputs": [],
   "source": [
    "# Given an integer array nums, return true if any value appears at least twice in the array, and return false if every element is distinct.\n",
    "# Example 1:\n",
    "# Input: nums = [1,2,3,1]\n",
    "# Output: true\n",
    "# Example 2:\n",
    "# Input: nums = [1, 2,3,4]\n",
    "# Output: false\n",
    "# Example 3:\n",
    "# Input: nums = [1,1,1, 3, 3,4, 3,2,4,2]\n",
    "# Output: true"
   ]
  },
  {
   "cell_type": "code",
   "execution_count": 4,
   "metadata": {},
   "outputs": [],
   "source": [
    "nums = [1,2,3,11]"
   ]
  },
  {
   "cell_type": "code",
   "execution_count": 9,
   "metadata": {},
   "outputs": [
    {
     "data": {
      "text/plain": [
       "True"
      ]
     },
     "execution_count": 9,
     "metadata": {},
     "output_type": "execute_result"
    }
   ],
   "source": [
    "# Brute Force with count\n",
    "def contains_duplicate(nums):\n",
    "    for itera in nums:\n",
    "        if nums.count(itera)>1:\n",
    "            return True\n",
    "        else:\n",
    "            continue\n",
    "    else:\n",
    "        return False\n",
    "    \n",
    "contains_duplicate([1,2,3,1])"
   ]
  },
  {
   "cell_type": "code",
   "execution_count": 11,
   "metadata": {},
   "outputs": [
    {
     "data": {
      "text/plain": [
       "False"
      ]
     },
     "execution_count": 11,
     "metadata": {},
     "output_type": "execute_result"
    }
   ],
   "source": [
    "# Brute Force without count\n",
    "def contains_duplicate(nums):\n",
    "    # Create an empty dictionary\n",
    "    # for each element in the list enumerate and loop\n",
    "    # if the next element is present in the empty dictionary, return true\n",
    "    # else of for loop, return false\n",
    "    dup_dict = {}\n",
    "    for itera, val in enumerate(nums):\n",
    "        if val not in dup_dict:\n",
    "            dup_dict[val] = itera\n",
    "        else:\n",
    "            return True\n",
    "    else:\n",
    "        return False\n",
    "\n",
    "    \n",
    "contains_duplicate([1,2,3,11])"
   ]
  },
  {
   "cell_type": "code",
   "execution_count": null,
   "metadata": {},
   "outputs": [],
   "source": []
  }
 ],
 "metadata": {
  "kernelspec": {
   "display_name": "Python 3",
   "language": "python",
   "name": "python3"
  },
  "language_info": {
   "codemirror_mode": {
    "name": "ipython",
    "version": 3
   },
   "file_extension": ".py",
   "mimetype": "text/x-python",
   "name": "python",
   "nbconvert_exporter": "python",
   "pygments_lexer": "ipython3",
   "version": "3.9.6"
  }
 },
 "nbformat": 4,
 "nbformat_minor": 2
}

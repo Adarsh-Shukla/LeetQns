{
 "cells": [
  {
   "cell_type": "code",
   "execution_count": null,
   "metadata": {},
   "outputs": [],
   "source": [
    "# Given an integer array nums, find the continuous subarray (containing at least one number) which has the largest sum and return its sum.\n",
    "# Example:\n",
    "# Input: [-2,1,-3,4,-1,2,1,-5,4],\n",
    "# Output: 6\n",
    "# Explanation: [4,-1,2,1] has the largest sum = 6"
   ]
  },
  {
   "cell_type": "code",
   "execution_count": 1,
   "metadata": {},
   "outputs": [],
   "source": [
    "nums = [-2,1,-3,4,-1,2,1,-5,4]"
   ]
  },
  {
   "cell_type": "code",
   "execution_count": 16,
   "metadata": {},
   "outputs": [],
   "source": [
    "# Start at 1\n",
    "        # 1. Take first element\n",
    "        # 2. Take first 2 elements\n",
    "        # 3. Take first 3 elements\n",
    "        # 4. Take first 4 elements\n",
    "        # 5. Take first 5 elements\n",
    "# Start at 2 repeat process 2 to 5\n",
    "# Start at 3 repeat process 3 to 5\n",
    "# Start at 4 repeat process 4 to 5\n",
    "# Start at 5 repeat process 5\n"
   ]
  },
  {
   "cell_type": "code",
   "execution_count": 18,
   "metadata": {},
   "outputs": [
    {
     "name": "stdout",
     "output_type": "stream",
     "text": [
      "6\n"
     ]
    }
   ],
   "source": [
    "# Brute Force\n",
    "def max_subarray(nums_inp):\n",
    "    itera = 0\n",
    "    max_sum = float('-inf')\n",
    "    while itera <= len(nums_inp):\n",
    "                  start_element = itera\n",
    "                  end_element = itera + 1\n",
    "                  while end_element <= len(nums_inp):\n",
    "                      # print(itera, len(nums_inp), end_element, sum(nums_inp[itera:end_element]), nums_inp[itera:end_element])\n",
    "                      sum_val = sum(nums_inp[itera:end_element])\n",
    "                      if sum_val > max_sum:\n",
    "                              max_sum = sum_val\n",
    "                      end_element += 1\n",
    "                  itera += 1\n",
    "    print(max_sum)\n",
    "max_subarray(nums)\n",
    "# O(n^2) time\n",
    "# O(1) space\n",
    "\n"
   ]
  },
  {
   "cell_type": "code",
   "execution_count": 29,
   "metadata": {},
   "outputs": [
    {
     "data": {
      "text/plain": [
       "6"
      ]
     },
     "execution_count": 29,
     "metadata": {},
     "output_type": "execute_result"
    }
   ],
   "source": [
    "# Kaeden's Algorithm or Sliding Window\n",
    "def maxSubArray(nums: list[int]) -> int:\n",
    "    maxsub = nums[0] # Initialize max subarray sum with first element\n",
    "    curSum = 0  # Set the current sum as 0\n",
    "    for n in nums: # Go through all list elems\n",
    "        if curSum < 0: # If the previous current sum is less than 0, set it to 0\n",
    "            curSum = 0\n",
    "        curSum += n # Add the current value to current sum\n",
    "        maxsub = max(maxsub, curSum) # if max subarray sum is lesser change it to current sum\n",
    "    return maxsub\n",
    "\n",
    "maxSubArray(nums)\n",
    "# maxSubArray([-7,-1,-5]) # gives -1. its correct\n",
    "# Time: O(n)\n",
    "# Space: O(1)"
   ]
  },
  {
   "cell_type": "code",
   "execution_count": null,
   "metadata": {},
   "outputs": [],
   "source": []
  }
 ],
 "metadata": {
  "kernelspec": {
   "display_name": "Python 3",
   "language": "python",
   "name": "python3"
  },
  "language_info": {
   "codemirror_mode": {
    "name": "ipython",
    "version": 3
   },
   "file_extension": ".py",
   "mimetype": "text/x-python",
   "name": "python",
   "nbconvert_exporter": "python",
   "pygments_lexer": "ipython3",
   "version": "3.9.6"
  }
 },
 "nbformat": 4,
 "nbformat_minor": 2
}

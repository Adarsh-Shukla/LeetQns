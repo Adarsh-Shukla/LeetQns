{
 "cells": [
  {
   "cell_type": "code",
   "execution_count": null,
   "metadata": {},
   "outputs": [],
   "source": [
    "# Suppose an array of length n sorted in ascending order is rotated between 1\n",
    "# and n times. For example, the array nums = [0,1,2,4,5,6,7] might become:\n",
    "# [4,5,6,7,0,1,2] if it was rotated 4 times.\n",
    "# • [0,1,2,4,5,6,7] if it was rotated 7 times.\n",
    "# Notice that rotating an array [a[0], a[1], a[2], .., a[n-1]] 1 time results in the array \n",
    "# [a[n-1], a[0], a[1], a[2], ..., a[n-2]] .\n",
    "# Given the sorted rotated array nums of unique elements, return the minimum element of this array.\n",
    "# You must write an algorithm that runs in 0(log n) time.\n",
    "# Example 1:\n",
    "# Input: nums = [3,4,5,1,2]\n",
    "# Output: 1\n",
    "# Explanation: The original array was [1,2,3,4,5] rotated 3 times."
   ]
  },
  {
   "cell_type": "code",
   "execution_count": 2,
   "metadata": {},
   "outputs": [],
   "source": [
    "nums_inp = [3,4,5,1,2]"
   ]
  },
  {
   "cell_type": "code",
   "execution_count": 3,
   "metadata": {},
   "outputs": [
    {
     "data": {
      "text/plain": [
       "1"
      ]
     },
     "execution_count": 3,
     "metadata": {},
     "output_type": "execute_result"
    }
   ],
   "source": [
    "# Brute force\n",
    "def min_rot_sort_array(nums):\n",
    "    minval = nums_inp[0]\n",
    "    for val in nums:\n",
    "        minval = min(val, minval)\n",
    "    return minval\n",
    "min_rot_sort_array(nums_inp)\n",
    "# O(n) time"
   ]
  },
  {
   "cell_type": "code",
   "execution_count": null,
   "metadata": {},
   "outputs": [],
   "source": [
    "# Brute force\n",
    "def min_rot_sort_array(nums):\n",
    "    minval = nums_inp[0]\n",
    "    for val in nums:\n",
    "        minval = min(val, minval)\n",
    "    return minval\n",
    "min_rot_sort_array(nums_inp)\n",
    "# O(n) time"
   ]
  }
 ],
 "metadata": {
  "kernelspec": {
   "display_name": "Python 3",
   "language": "python",
   "name": "python3"
  },
  "language_info": {
   "codemirror_mode": {
    "name": "ipython",
    "version": 3
   },
   "file_extension": ".py",
   "mimetype": "text/x-python",
   "name": "python",
   "nbconvert_exporter": "python",
   "pygments_lexer": "ipython3",
   "version": "3.9.6"
  }
 },
 "nbformat": 4,
 "nbformat_minor": 2
}

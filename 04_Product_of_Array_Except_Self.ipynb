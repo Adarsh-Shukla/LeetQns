{
 "cells": [
  {
   "cell_type": "code",
   "execution_count": null,
   "metadata": {},
   "outputs": [],
   "source": [
    "# Given an integer array nums, return an array answer such that answer[i] is equal to the product of all the elements of nums except nums [i] .\n",
    "# The product of any prefix or suffix of nums is guaranteed to fit in a 32-bit integer.\n",
    "# You must write an algorithm that runs in O(n) time and without using the division operation.\n",
    "# Example 1:\n",
    "# Input : nums = [1,2,3,4]\n",
    "# Output: [24, 12,8,6]\n",
    "# Example 2:\n",
    "# Input: nums = [-1,1,0, -3,3]\n",
    "# Output: [0,0,9,0,0]"
   ]
  },
  {
   "cell_type": "code",
   "execution_count": 1,
   "metadata": {},
   "outputs": [],
   "source": [
    "nums = [2,20,30,45]\n"
   ]
  },
  {
   "cell_type": "code",
   "execution_count": 15,
   "metadata": {},
   "outputs": [
    {
     "data": {
      "text/plain": [
       "[27000, 2700, 1800, 1200]"
      ]
     },
     "execution_count": 15,
     "metadata": {},
     "output_type": "execute_result"
    }
   ],
   "source": [
    "# Brute Force\n",
    "def prod(nums_inp):\n",
    "    nums_out = []\n",
    "    for itera in range(len(nums_inp)):\n",
    "        val = 1\n",
    "        rest_of_list = [nums_inp[itera2] for itera2 in range(len(nums_inp)) if itera2 != itera]\n",
    "        for itera3 in rest_of_list:\n",
    "            val = val*itera3\n",
    "        nums_out.append(val)\n",
    "    return nums_out\n",
    "prod(nums)\n",
    "# Time: O(n^2)\n",
    "# Space: O(n)"
   ]
  },
  {
   "cell_type": "code",
   "execution_count": 6,
   "metadata": {},
   "outputs": [
    {
     "data": {
      "text/plain": [
       "[27000, 2700, 1800, 1200]"
      ]
     },
     "execution_count": 6,
     "metadata": {},
     "output_type": "execute_result"
    }
   ],
   "source": [
    "# Use the output array to directly fill values\n",
    "def prod(nums_inp):\n",
    "    nums_out = [1]*len(nums_inp)\n",
    "    prefix = 1\n",
    "    for itera in range(len(nums_inp)):\n",
    "        nums_out[itera] = prefix\n",
    "        prefix *= nums_inp[itera]\n",
    "\n",
    "    suffix = 1\n",
    "    for itera2 in range(len(nums_inp)-1,-1,-1):\n",
    "        nums_out[itera2]*= suffix\n",
    "        suffix *= nums_inp[itera2]\n",
    "\n",
    "    return nums_out\n",
    "prod(nums)\n",
    "# Time: O(n)\n",
    "# Space: O(1)"
   ]
  },
  {
   "cell_type": "code",
   "execution_count": null,
   "metadata": {},
   "outputs": [],
   "source": []
  }
 ],
 "metadata": {
  "kernelspec": {
   "display_name": "Python 3",
   "language": "python",
   "name": "python3"
  },
  "language_info": {
   "codemirror_mode": {
    "name": "ipython",
    "version": 3
   },
   "file_extension": ".py",
   "mimetype": "text/x-python",
   "name": "python",
   "nbconvert_exporter": "python",
   "pygments_lexer": "ipython3",
   "version": "3.9.6"
  }
 },
 "nbformat": 4,
 "nbformat_minor": 2
}
